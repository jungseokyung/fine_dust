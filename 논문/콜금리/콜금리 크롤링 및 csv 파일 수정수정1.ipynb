{
 "cells": [
  {
   "cell_type": "code",
   "execution_count": null,
   "metadata": {},
   "outputs": [],
   "source": [
    "#크롤링\n",
    "import requests\n",
    "from bs4 import BeautifulSoup\n",
    "\n",
    "url='https://finance.naver.com/marketindex/interestDailyQuote.nhn?marketindexCd=IRR_CALL'\n",
    "\n",
    "# 54페이지부터 시작\n",
    "#total=[]\n",
    "\n",
    "date_list=[]\n",
    "num_list=[]\n",
    "all_dict={}\n",
    "\n",
    "for page in range(55,517):\n",
    "    params={\n",
    "        'page':page\n",
    "    }\n",
    "    resp=requests.get(url,params=params)    \n",
    "    soup=BeautifulSoup(resp.content,'html.parser')\n",
    "\n",
    "    # 그 페이지에 있는 날짜 저장.\n",
    "    \n",
    "    all_date=soup.find_all(class_='date')\n",
    "    for d in range(len(all_date)):\n",
    "        date_list.append(all_date[d].text.strip())\n",
    "    #    print(all_date[d].text.strip())\n",
    "    \n",
    "    # 종가 찾아서 저장하기.\n",
    "    all_num=soup.find_all(class_='num')\n",
    "    for n in range(len(all_num)):\n",
    "        if n%3==0:\n",
    "            num_list.append(all_num[n].text.strip())\n",
    "            #print(all_num[n].text.strip())\n",
    "    \n",
    "\n",
    "    for j in range(len(date_list)):\n",
    "        all_dict[date_list[j]]=num_list[j]    \n",
    "    print(all_dict)\n",
    "       \n",
    "        #if page%50==0:\n",
    "         #   print(page)\n",
    "    #total.append(all_dict)\n"
   ]
  },
  {
   "cell_type": "code",
   "execution_count": null,
   "metadata": {
    "scrolled": true
   },
   "outputs": [],
   "source": [
    "print(date_list[:3])\n",
    "print(date_list[-2:])"
   ]
  },
  {
   "cell_type": "code",
   "execution_count": null,
   "metadata": {},
   "outputs": [],
   "source": [
    "print(num_list[:5])\n",
    "print(num_list[-5:])"
   ]
  },
  {
   "cell_type": "code",
   "execution_count": null,
   "metadata": {},
   "outputs": [],
   "source": [
    "len(date_list)"
   ]
  },
  {
   "cell_type": "code",
   "execution_count": null,
   "metadata": {},
   "outputs": [],
   "source": [
    "len(num_list)"
   ]
  },
  {
   "cell_type": "code",
   "execution_count": null,
   "metadata": {},
   "outputs": [],
   "source": [
    "len(all_dict)"
   ]
  },
  {
   "cell_type": "code",
   "execution_count": null,
   "metadata": {},
   "outputs": [],
   "source": [
    "all_dict"
   ]
  },
  {
   "cell_type": "markdown",
   "metadata": {},
   "source": [
    "### 해당되지 않는 날짜 앞,뒤  지워주기"
   ]
  },
  {
   "cell_type": "code",
   "execution_count": null,
   "metadata": {},
   "outputs": [],
   "source": [
    "del date_list[:3]\n",
    "del date_list[-2:]\n",
    "\n",
    "del num_list[:3]\n",
    "del num_list[-2:]\n",
    "#['2018.01.04', '2018.01.03', '2018.01.02']\n",
    "\n",
    "del all_dict['2004.12.31']\n",
    "del all_dict['2004.12.30']\n",
    "del all_dict['2018.01.04']\n",
    "del all_dict['2018.01.03']\n",
    "del all_dict['2018.01.02']\n",
    "#el all_dict['2004.12.24']"
   ]
  },
  {
   "cell_type": "code",
   "execution_count": null,
   "metadata": {},
   "outputs": [],
   "source": [
    "len(num_list)"
   ]
  },
  {
   "cell_type": "code",
   "execution_count": null,
   "metadata": {},
   "outputs": [],
   "source": [
    "len(date_list)"
   ]
  },
  {
   "cell_type": "code",
   "execution_count": null,
   "metadata": {
    "scrolled": true
   },
   "outputs": [],
   "source": [
    "len(all_dict)"
   ]
  },
  {
   "cell_type": "code",
   "execution_count": null,
   "metadata": {},
   "outputs": [],
   "source": [
    "#all_dict"
   ]
  },
  {
   "cell_type": "markdown",
   "metadata": {},
   "source": [
    "### 크롤링해온것 일단 파일에 저장"
   ]
  },
  {
   "cell_type": "code",
   "execution_count": null,
   "metadata": {},
   "outputs": [],
   "source": [
    "import pandas as pd\n",
    "\n",
    "df_c=pd.DataFrame()\n",
    "df_c['date']=date_list\n",
    "df_c['콜금리']=num_list\n",
    "df_c['date']=pd.to_datetime(df_c['date'])\n",
    "df_c=df_c.set_index('date')\n",
    "df_c"
   ]
  },
  {
   "cell_type": "code",
   "execution_count": null,
   "metadata": {},
   "outputs": [],
   "source": [
    "df_c.to_csv(\"C:\\\\Users\\\\Jungsk\\\\Downloads\\\\멀캠_혁신성장\\\\crwal_call_rate.csv\",sep=' ')"
   ]
  },
  {
   "cell_type": "code",
   "execution_count": null,
   "metadata": {},
   "outputs": [],
   "source": [
    "test_csv=pd.read_csv(\"C:\\\\Users\\\\Jungsk\\\\Downloads\\\\멀캠_혁신성장\\\\crwal_call_rate.csv\",sep=' ')\n",
    "test_csv"
   ]
  },
  {
   "cell_type": "markdown",
   "metadata": {},
   "source": [
    "### 실제 달력 날짜 가져오기"
   ]
  },
  {
   "cell_type": "code",
   "execution_count": null,
   "metadata": {},
   "outputs": [],
   "source": [
    "import pandas as pd\n",
    "import datetime\n",
    "cal=pd.Series(pd.date_range(start='2005.01.01',end='2017.12.31',freq='D'))\n",
    "cal=[d for d in reversed(cal)]\n",
    "cal"
   ]
  },
  {
   "cell_type": "code",
   "execution_count": null,
   "metadata": {},
   "outputs": [],
   "source": [
    "len(cal)"
   ]
  },
  {
   "cell_type": "markdown",
   "metadata": {},
   "source": [
    "## Data Frame에 넣기"
   ]
  },
  {
   "cell_type": "markdown",
   "metadata": {},
   "source": [
    "###  df :  크롤링한 date & call금리 저장"
   ]
  },
  {
   "cell_type": "code",
   "execution_count": null,
   "metadata": {},
   "outputs": [],
   "source": [
    "df=pd.DataFrame()\n",
    "df['date']=date_list\n",
    "df['콜금리']=num_list\n",
    "df['date']=pd.to_datetime(df['date'])\n",
    "df"
   ]
  },
  {
   "cell_type": "markdown",
   "metadata": {},
   "source": [
    "### df 1: 실제 날짜 저장"
   ]
  },
  {
   "cell_type": "code",
   "execution_count": null,
   "metadata": {},
   "outputs": [],
   "source": [
    "df1=pd.DataFrame()\n",
    "df1['date']=cal\n",
    "df1"
   ]
  },
  {
   "cell_type": "markdown",
   "metadata": {},
   "source": [
    "### df 와 df1 을 Merge"
   ]
  },
  {
   "cell_type": "code",
   "execution_count": null,
   "metadata": {
    "scrolled": true
   },
   "outputs": [],
   "source": [
    "df2=pd.merge(df1,df,how='outer',on='date')\n",
    "\n",
    "df2=df2.fillna(method='ffill')\n",
    "if df2.isnull().values.any():\n",
    "    df2=df2.fillna(method='bfill')\n",
    "\n",
    "df2"
   ]
  },
  {
   "cell_type": "markdown",
   "metadata": {},
   "source": [
    "### 인덱스를 날짜로"
   ]
  },
  {
   "cell_type": "code",
   "execution_count": null,
   "metadata": {},
   "outputs": [],
   "source": [
    "df2['date']=pd.to_datetime(df2['date'])\n",
    "df2"
   ]
  },
  {
   "cell_type": "code",
   "execution_count": null,
   "metadata": {},
   "outputs": [],
   "source": [
    "df2=df2.set_index('date')\n",
    "df2"
   ]
  },
  {
   "cell_type": "markdown",
   "metadata": {},
   "source": [
    "### 1 달 전 날짜 구해놓기 - 리스트에 저장"
   ]
  },
  {
   "cell_type": "code",
   "execution_count": null,
   "metadata": {
    "scrolled": true
   },
   "outputs": [],
   "source": [
    "from datetime import datetime,timedelta\n",
    "\n",
    "month_ago=df2['Before 1M']=df2.index-pd.DateOffset(months=1)\n",
    "df2"
   ]
  },
  {
   "cell_type": "markdown",
   "metadata": {},
   "source": [
    "### '현재 날짜'로 , '1 달 전 날짜' 를 구해서, 데이터프레임 키값으로 넣어주기...!!\n"
   ]
  },
  {
   "cell_type": "code",
   "execution_count": null,
   "metadata": {
    "scrolled": true
   },
   "outputs": [],
   "source": [
    "key_date=[]\n",
    "current_date=[]\n",
    "\n",
    "for i in range(len(cal)):\n",
    "    before=df2['Before 1M'][i]\n",
    "    before_str=str(before)\n",
    "    key_date.append(before_str[:10])\n",
    "    before_str[-10]\n",
    "key_date"
   ]
  },
  {
   "cell_type": "code",
   "execution_count": null,
   "metadata": {},
   "outputs": [],
   "source": [
    "len(key_date)"
   ]
  },
  {
   "cell_type": "markdown",
   "metadata": {},
   "source": [
    "### 이전 날짜를 이용해 1 달 전 call금리를 가져온다."
   ]
  },
  {
   "cell_type": "code",
   "execution_count": null,
   "metadata": {},
   "outputs": [],
   "source": [
    "ago_call_list=[]\n",
    "\n",
    "try:\n",
    "    for i in range(len(cal)):\n",
    "    \n",
    "        before=df2.loc[key_date[i]]\n",
    "        b=float(before.iloc[0][0])\n",
    "        ago_call_list.append(b)\n",
    "        \n",
    "        #print(q)\n",
    "except:\n",
    "    pass\n",
    "ago_call_list"
   ]
  },
  {
   "cell_type": "code",
   "execution_count": null,
   "metadata": {},
   "outputs": [],
   "source": [
    "len(ago_call_list)"
   ]
  },
  {
   "cell_type": "code",
   "execution_count": null,
   "metadata": {
    "scrolled": true
   },
   "outputs": [],
   "source": [
    "len(cal)"
   ]
  },
  {
   "cell_type": "markdown",
   "metadata": {},
   "source": [
    "### 둘이 길이 맞아야 함. cal, ago_Call_list"
   ]
  },
  {
   "cell_type": "code",
   "execution_count": null,
   "metadata": {},
   "outputs": [],
   "source": [
    "#len(ago_call_list) \n",
    "for i in range(0,31): \n",
    "    ago_call_list.append('0')\n",
    "\n",
    "print(len(ago_call_list))"
   ]
  },
  {
   "cell_type": "code",
   "execution_count": null,
   "metadata": {},
   "outputs": [],
   "source": [
    "len(num_list)"
   ]
  },
  {
   "cell_type": "code",
   "execution_count": null,
   "metadata": {},
   "outputs": [],
   "source": [
    "date_list[20:]"
   ]
  },
  {
   "cell_type": "code",
   "execution_count": null,
   "metadata": {},
   "outputs": [],
   "source": [
    "num_list[20:]"
   ]
  },
  {
   "cell_type": "markdown",
   "metadata": {},
   "source": [
    "### df3: date 와 1 달 전 콜금리 저장"
   ]
  },
  {
   "cell_type": "code",
   "execution_count": null,
   "metadata": {},
   "outputs": [],
   "source": [
    "df3=pd.DataFrame()\n",
    "df3['date']=cal\n",
    "df3['1달 전 콜금리']=ago_call_list\n",
    "df3['date']=pd.to_datetime(df3['date'])\n",
    "df3"
   ]
  },
  {
   "cell_type": "markdown",
   "metadata": {},
   "source": [
    "### df4 : merge   df2, df3"
   ]
  },
  {
   "cell_type": "code",
   "execution_count": null,
   "metadata": {},
   "outputs": [],
   "source": [
    "df4=pd.merge(df2,df3,how='outer',on='date')\n",
    "\n",
    "df4=df4.fillna(method='ffill')\n",
    "if df4.isnull().values.any():\n",
    "    df4=df4.fillna(method='bfill')\n",
    "\n",
    "df4"
   ]
  },
  {
   "cell_type": "markdown",
   "metadata": {},
   "source": [
    "### 상승/하락 정하기"
   ]
  },
  {
   "cell_type": "code",
   "execution_count": null,
   "metadata": {
    "scrolled": true
   },
   "outputs": [],
   "source": [
    "len(ago_call_list)"
   ]
  },
  {
   "cell_type": "markdown",
   "metadata": {},
   "source": [
    "### 현재 날짜 가져오기."
   ]
  },
  {
   "cell_type": "code",
   "execution_count": null,
   "metadata": {},
   "outputs": [],
   "source": [
    "current_date=df2.index\n",
    "current_date_list=[]\n",
    "\n",
    "for i in range(len(cal)):\n",
    "    c_date=current_date[i]\n",
    "    str_c=str(c_date)\n",
    "    current_date_list.append(str_c[:10])\n",
    "current_date_list"
   ]
  },
  {
   "cell_type": "markdown",
   "metadata": {},
   "source": [
    "### 현재 날짜로 현재 콜금리 해서"
   ]
  },
  {
   "cell_type": "code",
   "execution_count": null,
   "metadata": {},
   "outputs": [],
   "source": [
    "now_call_list=[]\n",
    "try:\n",
    "    for i in range(len(cal)):\n",
    "    \n",
    "        now_call=df2.loc[current_date_list[i]]\n",
    "        n=float(now_call.iloc[0][0])\n",
    "        now_call_list.append(n)\n",
    "        \n",
    "        #print(q)\n",
    "except:\n",
    "    pass\n",
    "now_call_list"
   ]
  },
  {
   "cell_type": "code",
   "execution_count": null,
   "metadata": {
    "scrolled": true
   },
   "outputs": [],
   "source": [
    "result=[]\n",
    "value=0.0\n",
    "label=[]\n",
    "\n",
    "\n",
    "#def 콜금리계산():\n",
    "for i in range(0,len(ago_call_list)):\n",
    "    value=float(now_call_list[i])-float(ago_call_list[i])\n",
    "    \n",
    "    if value>0 :\n",
    "        ap='+'+str(value)+'%'\n",
    "        result.append(ap)\n",
    "        label.append('1')\n",
    "    elif value<0:\n",
    "        ap='-'+str(value)+'%'\n",
    "        result.append(ap)\n",
    "        label.append('-1')\n",
    "    else:\n",
    "        result.append('0.00%')\n",
    "        label.append('0')\n",
    "    \n",
    "result.append('0')\n",
    "result"
   ]
  },
  {
   "cell_type": "code",
   "execution_count": null,
   "metadata": {},
   "outputs": [],
   "source": [
    "label"
   ]
  },
  {
   "cell_type": "code",
   "execution_count": null,
   "metadata": {},
   "outputs": [],
   "source": [
    "len(label)"
   ]
  },
  {
   "cell_type": "code",
   "execution_count": null,
   "metadata": {
    "scrolled": true
   },
   "outputs": [],
   "source": [
    "len(result)"
   ]
  },
  {
   "cell_type": "code",
   "execution_count": null,
   "metadata": {
    "scrolled": true
   },
   "outputs": [],
   "source": [
    "result[-10:]"
   ]
  },
  {
   "cell_type": "code",
   "execution_count": null,
   "metadata": {},
   "outputs": [],
   "source": [
    "del result[-1]"
   ]
  },
  {
   "cell_type": "code",
   "execution_count": null,
   "metadata": {
    "scrolled": true
   },
   "outputs": [],
   "source": [
    "len(cal)"
   ]
  },
  {
   "cell_type": "markdown",
   "metadata": {},
   "source": [
    "### 길이 맞추기.- result 와 cal 사이"
   ]
  },
  {
   "cell_type": "markdown",
   "metadata": {},
   "source": [
    "for i in range(0,30):\n",
    "    result.append('-')\n",
    "print(len(result))\n",
    "print(result)"
   ]
  },
  {
   "cell_type": "markdown",
   "metadata": {},
   "source": [
    "for i in range(0,51):\n",
    "    result.append('-')\n",
    "print(len(result))\n",
    "print(result)"
   ]
  },
  {
   "cell_type": "markdown",
   "metadata": {},
   "source": [
    "### df5 : date  전달대비 "
   ]
  },
  {
   "cell_type": "code",
   "execution_count": null,
   "metadata": {
    "scrolled": true
   },
   "outputs": [],
   "source": [
    "df5=pd.DataFrame()\n",
    "df5['date']=cal\n",
    "df5['전달대비']=result\n",
    "df5['label']=label\n",
    "df5"
   ]
  },
  {
   "cell_type": "code",
   "execution_count": null,
   "metadata": {},
   "outputs": [],
   "source": [
    "df4"
   ]
  },
  {
   "cell_type": "markdown",
   "metadata": {},
   "source": [
    "### df6 : df5, df4  Merge"
   ]
  },
  {
   "cell_type": "code",
   "execution_count": null,
   "metadata": {
    "scrolled": true
   },
   "outputs": [],
   "source": [
    "df6=pd.merge(df4,df5,how='outer',on='date')\n",
    "\n",
    "df6=df6.fillna(method='ffill')\n",
    "if df6.isnull().values.any():\n",
    "    df6=df6.fillna(method='bfill')\n",
    "\n",
    "df6=df6.set_index('date')\n",
    "df6\n",
    "    "
   ]
  },
  {
   "cell_type": "markdown",
   "metadata": {},
   "source": [
    "### 파일에 저장"
   ]
  },
  {
   "cell_type": "code",
   "execution_count": null,
   "metadata": {},
   "outputs": [],
   "source": [
    "df6.to_csv(\"C:\\\\Users\\\\Jungsk\\\\Downloads\\\\멀캠_혁신성장\\\\call_rate.csv\",sep=' ')\n"
   ]
  },
  {
   "cell_type": "code",
   "execution_count": null,
   "metadata": {},
   "outputs": [],
   "source": [
    "test_read=pd.read_csv(\"C:\\\\Users\\\\Jungsk\\\\Downloads\\\\멀캠_혁신성장\\\\call_rate.csv\",sep=' ')\n",
    "test_read"
   ]
  },
  {
   "cell_type": "code",
   "execution_count": null,
   "metadata": {},
   "outputs": [],
   "source": []
  }
 ],
 "metadata": {
  "kernelspec": {
   "display_name": "Python 3",
   "language": "python",
   "name": "python3"
  },
  "language_info": {
   "codemirror_mode": {
    "name": "ipython",
    "version": 3
   },
   "file_extension": ".py",
   "mimetype": "text/x-python",
   "name": "python",
   "nbconvert_exporter": "python",
   "pygments_lexer": "ipython3",
   "version": "3.6.5"
  }
 },
 "nbformat": 4,
 "nbformat_minor": 2
}
